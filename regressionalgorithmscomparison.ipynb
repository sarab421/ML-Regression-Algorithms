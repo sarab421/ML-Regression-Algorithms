{
  "nbformat": 4,
  "nbformat_minor": 0,
  "metadata": {
    "colab": {
      "provenance": [],
      "mount_file_id": "1OEShhVFi4sORyN1gYd0Gn4Vp0liEzA9C",
      "authorship_tag": "ABX9TyPBDY+zGSIZ0buHO2zh9Gul",
      "include_colab_link": true
    },
    "kernelspec": {
      "name": "python3",
      "display_name": "Python 3"
    },
    "language_info": {
      "name": "python"
    }
  },
  "cells": [
    {
      "cell_type": "markdown",
      "metadata": {
        "id": "view-in-github",
        "colab_type": "text"
      },
      "source": [
        "<a href=\"https://colab.research.google.com/github/sarab421/ML-Regression-Algorithms/blob/main/regressionalgorithmscomparison.ipynb\" target=\"_parent\"><img src=\"https://colab.research.google.com/assets/colab-badge.svg\" alt=\"Open In Colab\"/></a>"
      ]
    },
    {
      "cell_type": "markdown",
      "source": [
        "# Loading and Preprocessing the Data"
      ],
      "metadata": {
        "id": "XT84YJuZ5W92"
      }
    },
    {
      "cell_type": "code",
      "execution_count": null,
      "metadata": {
        "colab": {
          "base_uri": "https://localhost:8080/"
        },
        "id": "x5gon2zn5TKA",
        "outputId": "a949ab4b-e836-484b-bc1a-b0c139c9028e"
      },
      "outputs": [
        {
          "output_type": "stream",
          "name": "stdout",
          "text": [
            "   price  crime_rate  resid_area  air_qual  room_num   age  dist1  dist2  \\\n",
            "0   24.0     0.00632       32.31     0.538     6.575  65.2   4.35   3.81   \n",
            "1   21.6     0.02731       37.07     0.469     6.421  78.9   4.99   4.70   \n",
            "2   34.7     0.02729       37.07     0.469     7.185  61.1   5.03   4.86   \n",
            "3   33.4     0.03237       32.18     0.458     6.998  45.8   6.21   5.93   \n",
            "4   36.2     0.06905       32.18     0.458     7.147  54.2   6.16   5.86   \n",
            "\n",
            "   dist3  dist4  teachers  poor_prop airport  n_hos_beds  n_hot_rooms  \\\n",
            "0   4.18   4.01      24.7       4.98     YES       5.480      11.1920   \n",
            "1   5.12   5.06      22.2       9.14      NO       7.332      12.1728   \n",
            "2   5.01   4.97      22.2       4.03      NO       7.394     101.1200   \n",
            "3   6.16   5.96      21.3       2.94     YES       9.268      11.2672   \n",
            "4   6.37   5.86      21.3       5.33      NO       8.824      11.2896   \n",
            "\n",
            "  waterbody  rainfall bus_ter     parks  \n",
            "0     River        23     YES  0.049347  \n",
            "1      Lake        42     YES  0.046146  \n",
            "2       NaN        38     YES  0.045764  \n",
            "3      Lake        45     YES  0.047151  \n",
            "4      Lake        55     YES  0.039474  \n"
          ]
        }
      ],
      "source": [
        "import pandas as pd\n",
        "from sklearn.model_selection import train_test_split\n",
        "from sklearn.preprocessing import OneHotEncoder, StandardScaler\n",
        "from sklearn.compose import ColumnTransformer\n",
        "from sklearn.pipeline import Pipeline\n",
        "from sklearn.impute import SimpleImputer\n",
        "\n",
        "# Load the dataset\n",
        "df = pd.read_csv('/content/drive/MyDrive/Colab Notebooks/Assignment1 8th semester/House_Price.csv')\n",
        "\n",
        "# Display the first few rows of the dataset\n",
        "print(df.head())\n",
        "\n",
        "# Separate features and target variable\n",
        "X = df.drop('price', axis=1)\n",
        "y = df['price']\n",
        "\n",
        "# Define categorical and numerical columns\n",
        "categorical_columns = ['airport', 'waterbody', 'bus_ter']\n",
        "numerical_columns = [col for col in X.columns if col not in categorical_columns]\n",
        "\n",
        "# Preprocessing for numerical data: impute missing values and scale\n",
        "numerical_transformer = Pipeline(steps=[\n",
        "    ('imputer', SimpleImputer(strategy='mean')),\n",
        "    ('scaler', StandardScaler())\n",
        "])\n",
        "\n",
        "# Preprocessing for categorical data: impute missing values and one-hot encode\n",
        "categorical_transformer = Pipeline(steps=[\n",
        "    ('imputer', SimpleImputer(strategy='constant', fill_value='missing')),\n",
        "    ('onehot', OneHotEncoder(handle_unknown='ignore'))\n",
        "])\n",
        "\n",
        "# Combine preprocessing steps\n",
        "preprocessor = ColumnTransformer(\n",
        "    transformers=[\n",
        "        ('num', numerical_transformer, numerical_columns),\n",
        "        ('cat', categorical_transformer, categorical_columns)\n",
        "    ])\n",
        "\n",
        "# Split the data into training and testing sets\n",
        "X_train, X_test, y_train, y_test = train_test_split(X, y, test_size=0.2, random_state=42)\n"
      ]
    },
    {
      "cell_type": "markdown",
      "source": [
        "Training with Decision Tree"
      ],
      "metadata": {
        "id": "sBlvi9qj6sen"
      }
    },
    {
      "cell_type": "code",
      "source": [
        "from sklearn.tree import DecisionTreeRegressor\n",
        "from sklearn.metrics import mean_squared_error\n",
        "\n",
        "# Initialize the Decision Tree regressor\n",
        "dt_reg = DecisionTreeRegressor()\n",
        "\n",
        "# Create a pipeline for the Decision Tree regressor\n",
        "pipeline_dt = Pipeline(steps=[('preprocessor', preprocessor),\n",
        "                              ('regressor', dt_reg)])\n",
        "\n",
        "# Train the model\n",
        "pipeline_dt.fit(X_train, y_train)\n",
        "\n",
        "# Predict on the test set\n",
        "y_pred_dt = pipeline_dt.predict(X_test)\n",
        "\n",
        "# Evaluate the model\n",
        "mse_dt = mean_squared_error(y_test, y_pred_dt)\n",
        "print(f'Decision Tree Regression Mean Squared Error: {mse_dt}')\n"
      ],
      "metadata": {
        "colab": {
          "base_uri": "https://localhost:8080/"
        },
        "id": "XuBF3w9S6wKy",
        "outputId": "41283ba3-a1f7-4b6f-9f1b-f47176055ca7"
      },
      "execution_count": null,
      "outputs": [
        {
          "output_type": "stream",
          "name": "stdout",
          "text": [
            "Decision Tree Regression Mean Squared Error: 15.636372549019608\n"
          ]
        }
      ]
    },
    {
      "cell_type": "markdown",
      "source": [
        "Training With Linear Regression"
      ],
      "metadata": {
        "id": "wx6Ca4U96yiG"
      }
    },
    {
      "cell_type": "code",
      "source": [
        "from sklearn.linear_model import LinearRegression\n",
        "\n",
        "# Initialize the Linear Regression model\n",
        "lr = LinearRegression()\n",
        "\n",
        "# Create a pipeline for the Linear Regression model\n",
        "pipeline_lr = Pipeline(steps=[('preprocessor', preprocessor),\n",
        "                              ('regressor', lr)])\n",
        "\n",
        "# Train the model\n",
        "pipeline_lr.fit(X_train, y_train)\n",
        "\n",
        "# Predict on the test set\n",
        "y_pred_lr = pipeline_lr.predict(X_test)\n",
        "\n",
        "# Evaluate the model\n",
        "mse_lr = mean_squared_error(y_test, y_pred_lr)\n",
        "print(f'Linear Regression Mean Squared Error: {mse_lr}')\n"
      ],
      "metadata": {
        "colab": {
          "base_uri": "https://localhost:8080/"
        },
        "id": "nRXcap0p7AqI",
        "outputId": "fcfaa8b4-e670-43d5-951e-9d6a02cbaba7"
      },
      "execution_count": null,
      "outputs": [
        {
          "output_type": "stream",
          "name": "stdout",
          "text": [
            "Linear Regression Mean Squared Error: 26.040081169598626\n"
          ]
        }
      ]
    },
    {
      "cell_type": "markdown",
      "source": [
        "Training With KNN"
      ],
      "metadata": {
        "id": "Pm-TtVb87EbO"
      }
    },
    {
      "cell_type": "code",
      "source": [
        "from sklearn.neighbors import KNeighborsRegressor\n",
        "\n",
        "# Initialize the KNN regressor\n",
        "knn_reg = KNeighborsRegressor(n_neighbors=6)\n",
        "\n",
        "# Create a pipeline for the KNN regressor\n",
        "pipeline_knn = Pipeline(steps=[('preprocessor', preprocessor),\n",
        "                               ('regressor', knn_reg)])\n",
        "\n",
        "# Train the model\n",
        "pipeline_knn.fit(X_train, y_train)\n",
        "\n",
        "# Predict on the test set\n",
        "y_pred_knn = pipeline_knn.predict(X_test)\n",
        "\n",
        "# Evaluate the model\n",
        "mse_knn = mean_squared_error(y_test, y_pred_knn)\n",
        "print(f'K-Nearest Neighbors Regression Mean Squared Error: {mse_knn}')\n"
      ],
      "metadata": {
        "colab": {
          "base_uri": "https://localhost:8080/"
        },
        "id": "cjrkWbup7H66",
        "outputId": "8a60a902-bc47-409c-c6be-5f698af9e89d"
      },
      "execution_count": null,
      "outputs": [
        {
          "output_type": "stream",
          "name": "stdout",
          "text": [
            "K-Nearest Neighbors Regression Mean Squared Error: 22.180514705882352\n"
          ]
        }
      ]
    },
    {
      "cell_type": "markdown",
      "source": [
        "# Finally Comparing"
      ],
      "metadata": {
        "id": "yV9pBzt27KXp"
      }
    },
    {
      "cell_type": "code",
      "source": [
        "print(f'Decision Tree Regression Mean Squared Error: {mse_dt}')\n",
        "print(f'Linear Regression Mean Squared Error: {mse_lr}')\n",
        "print(f'K-Nearest Neighbors Regression Mean Squared Error: {mse_knn}')\n"
      ],
      "metadata": {
        "colab": {
          "base_uri": "https://localhost:8080/"
        },
        "id": "w8V5Aqix7NCN",
        "outputId": "888cc0d3-f215-4c17-c76b-4f8c151a7b68"
      },
      "execution_count": null,
      "outputs": [
        {
          "output_type": "stream",
          "name": "stdout",
          "text": [
            "Decision Tree Regression Mean Squared Error: 15.636372549019608\n",
            "Linear Regression Mean Squared Error: 26.040081169598626\n",
            "K-Nearest Neighbors Regression Mean Squared Error: 22.180514705882352\n"
          ]
        }
      ]
    }
  ]
}